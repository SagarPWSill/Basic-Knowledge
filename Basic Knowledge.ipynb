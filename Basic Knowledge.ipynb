{
 "cells": [
  {
   "cell_type": "raw",
   "id": "2798c6c8-11b3-4add-a46f-08f4c10ef34b",
   "metadata": {},
   "source": [
    "# 1. python is a Programing Lanuage that's popular because it's easy to learn ,versatile, and can be used for many different application \n",
    "Easy to Learn Python's syntax is simple and straightforwad, Similar to English, Which makes it accessible to beginners.\n"
   ]
  },
  {
   "cell_type": "raw",
   "id": "68bca4af-e9e1-4a94-a7c4-59fd2ec1201c",
   "metadata": {},
   "source": [
    "# 2. A python interpreter is acomputer program that converts each High- level program statement into a Machine Code."
   ]
  },
  {
   "cell_type": "raw",
   "id": "754a572d-6920-4a47-9faa-b6d3fcb16638",
   "metadata": {},
   "source": [
    "#3. A Keyword refers to a predefined word the python reserves for working programs that have Specific Meaning. \n",
    "Just Like Example ,Integers, Float, String, boolea, Complex, None and Etc.\n",
    "\n"
   ]
  },
  {
   "cell_type": "code",
   "execution_count": 6,
   "id": "45e394fe-5407-4972-ba6a-71faafcc6f50",
   "metadata": {},
   "outputs": [
    {
     "name": "stdout",
     "output_type": "stream",
     "text": [
      "Hello World\n"
     ]
    }
   ],
   "source": [
    "print(\"Hello World\")\n"
   ]
  },
  {
   "cell_type": "raw",
   "id": "004cc24a-b9fe-4ca7-ad2f-6366bfc13789",
   "metadata": {},
   "source": [
    "# 4. A Variable Start with a Alphabet or UnderScore Character it Should not be Keywords."
   ]
  },
  {
   "cell_type": "code",
   "execution_count": 7,
   "id": "703ac46f-53b7-4cef-b3c3-2f73c427311c",
   "metadata": {},
   "outputs": [],
   "source": [
    "a=3"
   ]
  },
  {
   "cell_type": "code",
   "execution_count": 8,
   "id": "fdb2eda6-6ae6-48df-b557-07d8044df574",
   "metadata": {},
   "outputs": [
    {
     "data": {
      "text/plain": [
       "3"
      ]
     },
     "execution_count": 8,
     "metadata": {},
     "output_type": "execute_result"
    }
   ],
   "source": [
    "a\n"
   ]
  },
  {
   "cell_type": "raw",
   "id": "937e1b26-03f8-4e68-9b9d-0de3c26dfbcc",
   "metadata": {},
   "source": [
    "# 5. Mutability is the ability to Change the Value or State of an Object after it has been Created.\n",
    "like Example"
   ]
  },
  {
   "cell_type": "code",
   "execution_count": 1,
   "id": "81d98201-1b00-4146-94a3-6bbfb2c438e4",
   "metadata": {},
   "outputs": [
    {
     "data": {
      "text/plain": [
       "[1, 2, 3, 4.3, (3+5j), True, 'Sagar']"
      ]
     },
     "execution_count": 1,
     "metadata": {},
     "output_type": "execute_result"
    }
   ],
   "source": [
    "list_cont = [1, 2, 3, 4.3, 3+5j, True, \"Sagar\"]\n",
    "list_cont"
   ]
  },
  {
   "cell_type": "code",
   "execution_count": 2,
   "id": "d103b000-aa19-4fc7-8dbd-a66579fbab64",
   "metadata": {},
   "outputs": [
    {
     "data": {
      "text/plain": [
       "'Sagar'"
      ]
     },
     "execution_count": 2,
     "metadata": {},
     "output_type": "execute_result"
    }
   ],
   "source": [
    "list_cont[6]"
   ]
  },
  {
   "cell_type": "code",
   "execution_count": 3,
   "id": "16c8bb25-522a-472e-b293-c0ff27b5705f",
   "metadata": {},
   "outputs": [],
   "source": [
    "#mutability\n",
    "list_cont[6] = \"Vijay\""
   ]
  },
  {
   "cell_type": "code",
   "execution_count": 4,
   "id": "3012785e-ab84-430c-862e-0a9f282f9a70",
   "metadata": {},
   "outputs": [
    {
     "data": {
      "text/plain": [
       "'Vijay'"
      ]
     },
     "execution_count": 4,
     "metadata": {},
     "output_type": "execute_result"
    }
   ],
   "source": [
    "list_cont[6]\n"
   ]
  },
  {
   "cell_type": "raw",
   "id": "ee50c9ee-bcb6-4b07-822d-3cc2f5e33c18",
   "metadata": {},
   "source": [
    "#6.Because there is need of immutability in software field it provide seurity to data that if can't get \n",
    "Manipuated once you installed."
   ]
  },
  {
   "cell_type": "raw",
   "id": "c73ba227-5652-4ac9-bb72-7f997884ec45",
   "metadata": {},
   "source": [
    "#7.\"= =\" check if the value of two object are equal while \"is\" checks \n",
    "if two variable point to tha same memory location\n"
   ]
  },
  {
   "cell_type": "raw",
   "id": "6ad6b4a8-cda1-4d67-9d60-c3dcddb3b7d3",
   "metadata": {},
   "source": [
    "#8.Logical operators in Python are used to combine conditional statements and produce \n",
    "a Boolean result (True or False). Here are the three logical operators"
   ]
  },
  {
   "cell_type": "code",
   "execution_count": 1,
   "id": "9fac03ed-d937-47f0-a474-92a68b861363",
   "metadata": {},
   "outputs": [
    {
     "name": "stdout",
     "output_type": "stream",
     "text": [
      "True\n",
      "True\n",
      "False\n"
     ]
    }
   ],
   "source": [
    "x = 5\n",
    "y = 10\n",
    "\n",
    "print(x < 10 and y > 5)  # True\n",
    "print(x < 10 or y < 5)  # True\n",
    "print(not(x < 10))  # False"
   ]
  },
  {
   "cell_type": "raw",
   "id": "31ef9f55-7004-441b-98f7-86d984a5cf2f",
   "metadata": {},
   "source": [
    "# 9. Type Casting is the conversion of one data type to another, such as \n",
    "a converting an nterger to a string or a float."
   ]
  },
  {
   "cell_type": "raw",
   "id": "f59d803b-9ee8-4baf-ae44-39570e82eea4",
   "metadata": {},
   "source": [
    "# 10. Implicit casting is done automatically by python while explicit casting requries \n",
    "the use of functoins like int(3),float (3.5) or a str(pwskill) to convert between types."
   ]
  },
  {
   "cell_type": "code",
   "execution_count": null,
   "id": "b3bc1532-184c-466a-8218-f419ecc5457e",
   "metadata": {},
   "outputs": [],
   "source": [
    "# 11. Conditional statement , such as if , elif, and else, allow python to execute certain \n",
    "blocks of code based on whether a condition is True or False\n"
   ]
  },
  {
   "cell_type": "raw",
   "id": "46eac479-2849-4f2a-a8b9-1654338f0b66",
   "metadata": {},
   "source": [
    "# 12. The Elif statement provide additional condintion after an a iniital if .\n",
    "it is only executed if the previous if or elif condition was False."
   ]
  },
  {
   "cell_type": "raw",
   "id": "0795dc39-45a6-4317-a647-bb021c525b25",
   "metadata": {},
   "source": [
    "# 13. The main difference between a for loop and a while loop is the number of times the code is repeated. A for loop is used when the number of iterations is known, \n",
    "while a while loop is used when the number of iterations is unknown. "
   ]
  },
  {
   "cell_type": "raw",
   "id": "d74afd8b-f41e-46a3-aba9-f82901e93262",
   "metadata": {},
   "source": [
    "#14. A While Loop is ideal when you want to continue looping until a specfic condition is met , \n",
    "like waiting for user input or monitoring a process until it completes."
   ]
  }
 ],
 "metadata": {
  "kernelspec": {
   "display_name": "Python 3 (ipykernel)",
   "language": "python",
   "name": "python3"
  },
  "language_info": {
   "codemirror_mode": {
    "name": "ipython",
    "version": 3
   },
   "file_extension": ".py",
   "mimetype": "text/x-python",
   "name": "python",
   "nbconvert_exporter": "python",
   "pygments_lexer": "ipython3",
   "version": "3.11.5"
  }
 },
 "nbformat": 4,
 "nbformat_minor": 5
}
